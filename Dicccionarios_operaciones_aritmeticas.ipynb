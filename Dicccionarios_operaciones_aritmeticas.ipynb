{
  "nbformat": 4,
  "nbformat_minor": 0,
  "metadata": {
    "colab": {
      "provenance": [],
      "authorship_tag": "ABX9TyOQawF5ZsqAbmctL3Rjbu7J",
      "include_colab_link": true
    },
    "kernelspec": {
      "name": "python3",
      "display_name": "Python 3"
    },
    "language_info": {
      "name": "python"
    }
  },
  "cells": [
    {
      "cell_type": "markdown",
      "metadata": {
        "id": "view-in-github",
        "colab_type": "text"
      },
      "source": [
        "<a href=\"https://colab.research.google.com/github/Elizabethc1986/Proyectos-python/blob/main/Dicccionarios_operaciones_aritmeticas.ipynb\" target=\"_parent\"><img src=\"https://colab.research.google.com/assets/colab-badge.svg\" alt=\"Open In Colab\"/></a>"
      ]
    },
    {
      "cell_type": "markdown",
      "source": [
        "1.Calcular el salario semanal:\n",
        "Un vendedor gana un salario base de $500 más una comisión del 10% sobre sus\n",
        "ventas totales. Escribe un programa donde se pueda ingresar el monto de las ventas\n",
        "totales del vendedor y calcule su salario total."
      ],
      "metadata": {
        "id": "9WQYR1v6kchb"
      }
    },
    {
      "cell_type": "code",
      "source": [
        "salario_base = 500\n",
        "comision= 0.1\n",
        "total_input = input(\"ingrese ventas\")\n",
        "ventas_totales = float(total_input)\n",
        "ventas = ventas_totales*salario_base\n",
        "comision_total = ventas * comision\n",
        "salario_total = comision_total + ventas\n",
        "print(f\"salario_total: ${salario_total:,.2f}\")\n"
      ],
      "metadata": {
        "colab": {
          "base_uri": "https://localhost:8080/"
        },
        "id": "EsGLEAo-kimI",
        "outputId": "0dffabaf-fc09-4a7e-982a-e1384ffd1235"
      },
      "execution_count": null,
      "outputs": [
        {
          "output_type": "stream",
          "name": "stdout",
          "text": [
            "ingrese ventas300\n",
            "salario_total: $165,000.00\n"
          ]
        }
      ]
    },
    {
      "cell_type": "markdown",
      "source": [
        "2.En este ejercicio, vamos a crear un diccionario vacío llamado catalogo_frutas {'fruta':\n",
        "precio} y agregar algunas frutas con sus precios. Luego, le pediremos al usuario que\n",
        "ingrese el nombre de una fruta y verificaremos si esa fruta está en el diccionario. Si\n",
        "la fruta está en el diccionario, mostraremos el precio al usuario. Si la fruta no está en\n",
        "el diccionario, le diremos al usuario que no se encuentra esa fruta en nuestra tienda."
      ],
      "metadata": {
        "id": "7lFscuT4uVme"
      }
    },
    {
      "cell_type": "code",
      "source": [
        "catalogo_frutas = {'sandia': 20, 'piña': 10, 'mandarina': 30, 'naranja': 50, 'uva': 40}\n",
        "print(catalogo_frutas)\n",
        "print(catalogo_frutas.get(\"kiwi\", \"No disponible\"))"
      ],
      "metadata": {
        "colab": {
          "base_uri": "https://localhost:8080/"
        },
        "id": "xLR7YXpauoFI",
        "outputId": "4653a1af-4a2e-4c00-c738-1fe0aa549caa"
      },
      "execution_count": null,
      "outputs": [
        {
          "output_type": "stream",
          "name": "stdout",
          "text": [
            "{'sandia': 20, 'piña': 10, 'mandarina': 30, 'naranja': 50, 'uva': 40}\n",
            "No disponible\n"
          ]
        }
      ]
    },
    {
      "cell_type": "markdown",
      "source": [
        "3.Bienvenido al casino\n",
        "En este juego, tienes que lanzar dos dados y el programa mostrará los valores\n",
        "obtenidos en cada dado y la suma de ambos valores. Debes generar dos números\n",
        "aleatorios entre 1 y 6 que representan los valores obtenidos en cada dado usando la\n",
        "librería random. Luego, el programa debe mostrar los valores obtenidos en cada\n",
        "dado y la suma de ambos valores en la pantalla."
      ],
      "metadata": {
        "id": "mtcI4k7S0WnS"
      }
    },
    {
      "cell_type": "code",
      "source": [
        "import random\n",
        "moneda1 = random.randint(1,6)\n",
        "moneda2 = random.randint(1,6)\n",
        "print(\"dado1 es:\", moneda1)\n",
        "print(\"dado2 es:\", moneda2)\n",
        "suma_dados=moneda1+moneda2\n",
        "print(\"la suma de los dados es:\", suma_dados)\n"
      ],
      "metadata": {
        "colab": {
          "base_uri": "https://localhost:8080/"
        },
        "id": "F6Wu0iIM0jqs",
        "outputId": "081f27bc-726a-42ba-a408-6caf3c64c820"
      },
      "execution_count": null,
      "outputs": [
        {
          "output_type": "stream",
          "name": "stdout",
          "text": [
            "dado1 es: 5\n",
            "dado2 es: 6\n",
            "la suma de los dados es: 11\n"
          ]
        }
      ]
    },
    {
      "cell_type": "markdown",
      "source": [
        "4.Calculadora de chocolate\n",
        "Crea un programa que calcule la cantidad de chocolate que puedes comer sin\n",
        "pasarte de tu límite diario de calorías. El programa debe preguntar al usuario su\n",
        "límite diario de calorías y la cantidad de calorías que tiene una porción de chocolate.\n",
        "Luego, debe calcular la cantidad máxima de chocolate que se puede comer sin\n",
        "exceder el límite diario de calorías y mostrarla en pantalla."
      ],
      "metadata": {
        "id": "9_NB1pXtHQi2"
      }
    },
    {
      "cell_type": "code",
      "source": [
        "limite_input=input(\"ingrese limite calorias\")\n",
        "limite_calorias=float(limite_input)\n",
        "print(limite_calorias)\n",
        "porcion=input(\"ingrese calorias porcion de chocolate\")\n",
        "calorias_porcion= float(porcion)\n",
        "print(calorias_porcion)\n",
        "cantidad_maxima_chocolate=limite_calorias/calorias_porcion\n",
        "print(\"limite porcion chocolate diario es :\", cantidad_maxima_chocolate)"
      ],
      "metadata": {
        "colab": {
          "base_uri": "https://localhost:8080/"
        },
        "id": "gERBf5eYHgMQ",
        "outputId": "fd694d53-a653-42cb-b194-5b4b3ccee39b"
      },
      "execution_count": null,
      "outputs": [
        {
          "output_type": "stream",
          "name": "stdout",
          "text": [
            "ingrese limite calorias500\n",
            "500.0\n",
            "ingrese calorias porcion de chocolate150\n",
            "150.0\n",
            "limite porcion chocolate diario es : 3.3333333333333335\n"
          ]
        }
      ]
    }
  ]
}