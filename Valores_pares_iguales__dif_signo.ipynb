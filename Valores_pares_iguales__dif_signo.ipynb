{
  "nbformat": 4,
  "nbformat_minor": 0,
  "metadata": {
    "colab": {
      "provenance": [],
      "authorship_tag": "ABX9TyNRIedvHXJ1cJBS3uTMAd5B",
      "include_colab_link": true
    },
    "kernelspec": {
      "name": "python3",
      "display_name": "Python 3"
    },
    "language_info": {
      "name": "python"
    }
  },
  "cells": [
    {
      "cell_type": "markdown",
      "metadata": {
        "id": "view-in-github",
        "colab_type": "text"
      },
      "source": [
        "<a href=\"https://colab.research.google.com/github/Elizabethc1986/Proyectos-python/blob/main/Valores_pares_iguales__dif_signo.ipynb\" target=\"_parent\"><img src=\"https://colab.research.google.com/assets/colab-badge.svg\" alt=\"Open In Colab\"/></a>"
      ]
    },
    {
      "cell_type": "code",
      "execution_count": 73,
      "metadata": {
        "colab": {
          "base_uri": "https://localhost:8080/",
          "height": 73
        },
        "id": "74quQ2q7Rq1w",
        "outputId": "7124c4fe-9270-4e9e-b12b-55400d8194ca"
      },
      "outputs": [
        {
          "output_type": "display_data",
          "data": {
            "text/plain": [
              "<IPython.core.display.HTML object>"
            ],
            "text/html": [
              "\n",
              "     <input type=\"file\" id=\"files-22ba1e6d-435d-4101-876e-efbc3e80d86a\" name=\"files[]\" multiple disabled\n",
              "        style=\"border:none\" />\n",
              "     <output id=\"result-22ba1e6d-435d-4101-876e-efbc3e80d86a\">\n",
              "      Upload widget is only available when the cell has been executed in the\n",
              "      current browser session. Please rerun this cell to enable.\n",
              "      </output>\n",
              "      <script>// Copyright 2017 Google LLC\n",
              "//\n",
              "// Licensed under the Apache License, Version 2.0 (the \"License\");\n",
              "// you may not use this file except in compliance with the License.\n",
              "// You may obtain a copy of the License at\n",
              "//\n",
              "//      http://www.apache.org/licenses/LICENSE-2.0\n",
              "//\n",
              "// Unless required by applicable law or agreed to in writing, software\n",
              "// distributed under the License is distributed on an \"AS IS\" BASIS,\n",
              "// WITHOUT WARRANTIES OR CONDITIONS OF ANY KIND, either express or implied.\n",
              "// See the License for the specific language governing permissions and\n",
              "// limitations under the License.\n",
              "\n",
              "/**\n",
              " * @fileoverview Helpers for google.colab Python module.\n",
              " */\n",
              "(function(scope) {\n",
              "function span(text, styleAttributes = {}) {\n",
              "  const element = document.createElement('span');\n",
              "  element.textContent = text;\n",
              "  for (const key of Object.keys(styleAttributes)) {\n",
              "    element.style[key] = styleAttributes[key];\n",
              "  }\n",
              "  return element;\n",
              "}\n",
              "\n",
              "// Max number of bytes which will be uploaded at a time.\n",
              "const MAX_PAYLOAD_SIZE = 100 * 1024;\n",
              "\n",
              "function _uploadFiles(inputId, outputId) {\n",
              "  const steps = uploadFilesStep(inputId, outputId);\n",
              "  const outputElement = document.getElementById(outputId);\n",
              "  // Cache steps on the outputElement to make it available for the next call\n",
              "  // to uploadFilesContinue from Python.\n",
              "  outputElement.steps = steps;\n",
              "\n",
              "  return _uploadFilesContinue(outputId);\n",
              "}\n",
              "\n",
              "// This is roughly an async generator (not supported in the browser yet),\n",
              "// where there are multiple asynchronous steps and the Python side is going\n",
              "// to poll for completion of each step.\n",
              "// This uses a Promise to block the python side on completion of each step,\n",
              "// then passes the result of the previous step as the input to the next step.\n",
              "function _uploadFilesContinue(outputId) {\n",
              "  const outputElement = document.getElementById(outputId);\n",
              "  const steps = outputElement.steps;\n",
              "\n",
              "  const next = steps.next(outputElement.lastPromiseValue);\n",
              "  return Promise.resolve(next.value.promise).then((value) => {\n",
              "    // Cache the last promise value to make it available to the next\n",
              "    // step of the generator.\n",
              "    outputElement.lastPromiseValue = value;\n",
              "    return next.value.response;\n",
              "  });\n",
              "}\n",
              "\n",
              "/**\n",
              " * Generator function which is called between each async step of the upload\n",
              " * process.\n",
              " * @param {string} inputId Element ID of the input file picker element.\n",
              " * @param {string} outputId Element ID of the output display.\n",
              " * @return {!Iterable<!Object>} Iterable of next steps.\n",
              " */\n",
              "function* uploadFilesStep(inputId, outputId) {\n",
              "  const inputElement = document.getElementById(inputId);\n",
              "  inputElement.disabled = false;\n",
              "\n",
              "  const outputElement = document.getElementById(outputId);\n",
              "  outputElement.innerHTML = '';\n",
              "\n",
              "  const pickedPromise = new Promise((resolve) => {\n",
              "    inputElement.addEventListener('change', (e) => {\n",
              "      resolve(e.target.files);\n",
              "    });\n",
              "  });\n",
              "\n",
              "  const cancel = document.createElement('button');\n",
              "  inputElement.parentElement.appendChild(cancel);\n",
              "  cancel.textContent = 'Cancel upload';\n",
              "  const cancelPromise = new Promise((resolve) => {\n",
              "    cancel.onclick = () => {\n",
              "      resolve(null);\n",
              "    };\n",
              "  });\n",
              "\n",
              "  // Wait for the user to pick the files.\n",
              "  const files = yield {\n",
              "    promise: Promise.race([pickedPromise, cancelPromise]),\n",
              "    response: {\n",
              "      action: 'starting',\n",
              "    }\n",
              "  };\n",
              "\n",
              "  cancel.remove();\n",
              "\n",
              "  // Disable the input element since further picks are not allowed.\n",
              "  inputElement.disabled = true;\n",
              "\n",
              "  if (!files) {\n",
              "    return {\n",
              "      response: {\n",
              "        action: 'complete',\n",
              "      }\n",
              "    };\n",
              "  }\n",
              "\n",
              "  for (const file of files) {\n",
              "    const li = document.createElement('li');\n",
              "    li.append(span(file.name, {fontWeight: 'bold'}));\n",
              "    li.append(span(\n",
              "        `(${file.type || 'n/a'}) - ${file.size} bytes, ` +\n",
              "        `last modified: ${\n",
              "            file.lastModifiedDate ? file.lastModifiedDate.toLocaleDateString() :\n",
              "                                    'n/a'} - `));\n",
              "    const percent = span('0% done');\n",
              "    li.appendChild(percent);\n",
              "\n",
              "    outputElement.appendChild(li);\n",
              "\n",
              "    const fileDataPromise = new Promise((resolve) => {\n",
              "      const reader = new FileReader();\n",
              "      reader.onload = (e) => {\n",
              "        resolve(e.target.result);\n",
              "      };\n",
              "      reader.readAsArrayBuffer(file);\n",
              "    });\n",
              "    // Wait for the data to be ready.\n",
              "    let fileData = yield {\n",
              "      promise: fileDataPromise,\n",
              "      response: {\n",
              "        action: 'continue',\n",
              "      }\n",
              "    };\n",
              "\n",
              "    // Use a chunked sending to avoid message size limits. See b/62115660.\n",
              "    let position = 0;\n",
              "    do {\n",
              "      const length = Math.min(fileData.byteLength - position, MAX_PAYLOAD_SIZE);\n",
              "      const chunk = new Uint8Array(fileData, position, length);\n",
              "      position += length;\n",
              "\n",
              "      const base64 = btoa(String.fromCharCode.apply(null, chunk));\n",
              "      yield {\n",
              "        response: {\n",
              "          action: 'append',\n",
              "          file: file.name,\n",
              "          data: base64,\n",
              "        },\n",
              "      };\n",
              "\n",
              "      let percentDone = fileData.byteLength === 0 ?\n",
              "          100 :\n",
              "          Math.round((position / fileData.byteLength) * 100);\n",
              "      percent.textContent = `${percentDone}% done`;\n",
              "\n",
              "    } while (position < fileData.byteLength);\n",
              "  }\n",
              "\n",
              "  // All done.\n",
              "  yield {\n",
              "    response: {\n",
              "      action: 'complete',\n",
              "    }\n",
              "  };\n",
              "}\n",
              "\n",
              "scope.google = scope.google || {};\n",
              "scope.google.colab = scope.google.colab || {};\n",
              "scope.google.colab._files = {\n",
              "  _uploadFiles,\n",
              "  _uploadFilesContinue,\n",
              "};\n",
              "})(self);\n",
              "</script> "
            ]
          },
          "metadata": {}
        },
        {
          "output_type": "stream",
          "name": "stdout",
          "text": [
            "Saving pares1.csv to pares1 (3).csv\n"
          ]
        }
      ],
      "source": [
        "# --- El siguiente codigo surgio de la necesitad de hacer reconciliaciones en cuentas contables ,en donde se hace necesario hacer eliminacion de valores que se anulan para disminuir la cantidad de registros\n",
        "#Paso 1: subir archivo desde el PC ---\n",
        "from google.colab import files\n",
        "uploaded = files.upload()\n",
        "# Esto te permitirá seleccionar el archivo \"pares1\" en tu computador # Luego Colab lo guarda en la carpeta temporal (/content/).El nombre \"pares1\" es solo un ejemplo.Se debe reeemplar por el original en formato csv"
      ]
    },
    {
      "cell_type": "code",
      "source": [
        "df = pd.read_csv(\"pares1.csv\", sep=\";\")  # cambia el nombre si tu archivo tiene otro\n",
        "# Mostrar las primeras filas\n",
        "print(df.head())\n",
        "# Ver nombres de columnas\n",
        "print(df.columns)\n",
        "\n",
        "# Con esto podemos comprobar los primeros registros del archivo"
      ],
      "metadata": {
        "colab": {
          "base_uri": "https://localhost:8080/"
        },
        "id": "DQGBEPlFTW_z",
        "outputId": "abfc365f-23e9-42f8-b545-79139636c8f8"
      },
      "execution_count": 88,
      "outputs": [
        {
          "output_type": "stream",
          "name": "stdout",
          "text": [
            "              nombre  edad  peso  altura  evaluacion_fisica  \\\n",
            "0      Alana Morillo    32    75      18                 93   \n",
            "1    Valentina Tasis    30    65     -18                 90   \n",
            "2     Regina Cicerón    31    76      20                 89   \n",
            "3     María Juderías    28    78      30                 88   \n",
            "4  Consuela Arboleda    33    77     -20                 94   \n",
            "\n",
            "   evaluacion_psicologica  evaluacion_adaptativa  evaluacion_medica  \\\n",
            "0                      88                     78                 89   \n",
            "1                      91                     85                 92   \n",
            "2                      87                     83                 90   \n",
            "3                      85                     87                 92   \n",
            "4                      83                     89                 93   \n",
            "\n",
            "   anos_experiencia califica                     IMC  promedio_evaluaciones  \n",
            "0                 6       SI  23.148.148.148.148.100                  87.00  \n",
            "1                 2       SI  21.224.489.795.918.300                  89.50  \n",
            "2                 7       SI  22.694.018.931.589.400                  87.25  \n",
            "3                 5       SI   2.354.788.069.073.780                  88.00  \n",
            "4                 8       SI  21.785.875.961.973.700                  89.75  \n",
            "Index(['nombre', 'edad', 'peso', 'altura', 'evaluacion_fisica',\n",
            "       'evaluacion_psicologica', 'evaluacion_adaptativa', 'evaluacion_medica',\n",
            "       'anos_experiencia', 'califica', 'IMC', 'promedio_evaluaciones'],\n",
            "      dtype='object')\n"
          ]
        }
      ]
    },
    {
      "cell_type": "code",
      "source": [
        "# --- Paso 1: elegir la columna que contiene los números a eliminar\n",
        "columna = \"altura\"   # cambia por el nombre real de tu columna numérica\n"
      ],
      "metadata": {
        "id": "Zlxf_1KtUftL"
      },
      "execution_count": 89,
      "outputs": []
    },
    {
      "cell_type": "code",
      "source": [
        "# Hace una copia del dataframe df para empezar a eliminar\n",
        "df_filtrado = df.copy()"
      ],
      "metadata": {
        "id": "l09md6LhUoKh"
      },
      "execution_count": 90,
      "outputs": []
    },
    {
      "cell_type": "code",
      "source": [
        "\n",
        "\n",
        "# Valores únicos de la columna\n",
        "valores = df[columna].unique()\n"
      ],
      "metadata": {
        "id": "fZNLmqnAWG4c"
      },
      "execution_count": 91,
      "outputs": []
    },
    {
      "cell_type": "code",
      "source": [
        "# Recorremos los valores positivos\n",
        "for num in valores:# Recorre todos los valores únicos que había en la columna\n",
        "    if num > 0 and -num in df_filtrado[columna].values:      # Solo entra si el número es positivo y existe también su opuesto en la columna\n",
        "        # Mientras existan pares, eliminamos de a uno\n",
        "        while ((df_filtrado[columna] == num).sum() > 0 and #mientras existan pares (al menos un num y un -num) siga eliminando.\n",
        "               (df_filtrado[columna] == -num).sum() > 0):\n",
        "            idx_pos = df_filtrado[df_filtrado[columna] == num].index[0] #toma el primer índice donde aparece num y el primer índice donde aparece -num..\n",
        "            idx_neg = df_filtrado[df_filtrado[columna] == -num].index[0] #oma el primer índice donde aparece num y el primer índice donde aparece -num.\n",
        "            df_filtrado = df_filtrado.drop([idx_pos, idx_neg]) #Se eliminan esos dos índices (es decir, el par num y -num).#Como estamos dentro de un while, si después sigue existiendo otro 2 o -2, vuelve a hacer lo mismo hasta que ya no queden pares\n"
      ],
      "metadata": {
        "id": "AnB3ccsFWUcE"
      },
      "execution_count": 92,
      "outputs": []
    },
    {
      "cell_type": "code",
      "source": [
        "# --- Guardar en Excel ---\n",
        "output_file = \"pares_filtrados.xlsx\"\n",
        "df_filtrado.to_excel(output_file, index=False)"
      ],
      "metadata": {
        "id": "B01gRR8cczCz"
      },
      "execution_count": 93,
      "outputs": []
    },
    {
      "cell_type": "code",
      "source": [
        "# --- Descargar ---\n",
        "files.download(output_file)\n"
      ],
      "metadata": {
        "colab": {
          "base_uri": "https://localhost:8080/",
          "height": 17
        },
        "id": "mB-Lh-lQc2Fs",
        "outputId": "2e3a91ac-d33e-4401-9b63-acfc919e5af3"
      },
      "execution_count": 94,
      "outputs": [
        {
          "output_type": "display_data",
          "data": {
            "text/plain": [
              "<IPython.core.display.Javascript object>"
            ],
            "application/javascript": [
              "\n",
              "    async function download(id, filename, size) {\n",
              "      if (!google.colab.kernel.accessAllowed) {\n",
              "        return;\n",
              "      }\n",
              "      const div = document.createElement('div');\n",
              "      const label = document.createElement('label');\n",
              "      label.textContent = `Downloading \"${filename}\": `;\n",
              "      div.appendChild(label);\n",
              "      const progress = document.createElement('progress');\n",
              "      progress.max = size;\n",
              "      div.appendChild(progress);\n",
              "      document.body.appendChild(div);\n",
              "\n",
              "      const buffers = [];\n",
              "      let downloaded = 0;\n",
              "\n",
              "      const channel = await google.colab.kernel.comms.open(id);\n",
              "      // Send a message to notify the kernel that we're ready.\n",
              "      channel.send({})\n",
              "\n",
              "      for await (const message of channel.messages) {\n",
              "        // Send a message to notify the kernel that we're ready.\n",
              "        channel.send({})\n",
              "        if (message.buffers) {\n",
              "          for (const buffer of message.buffers) {\n",
              "            buffers.push(buffer);\n",
              "            downloaded += buffer.byteLength;\n",
              "            progress.value = downloaded;\n",
              "          }\n",
              "        }\n",
              "      }\n",
              "      const blob = new Blob(buffers, {type: 'application/binary'});\n",
              "      const a = document.createElement('a');\n",
              "      a.href = window.URL.createObjectURL(blob);\n",
              "      a.download = filename;\n",
              "      div.appendChild(a);\n",
              "      a.click();\n",
              "      div.remove();\n",
              "    }\n",
              "  "
            ]
          },
          "metadata": {}
        },
        {
          "output_type": "display_data",
          "data": {
            "text/plain": [
              "<IPython.core.display.Javascript object>"
            ],
            "application/javascript": [
              "download(\"download_0d29514b-10a9-4054-9581-825d3797fe43\", \"pares_filtrados.xlsx\", 5586)"
            ]
          },
          "metadata": {}
        }
      ]
    },
    {
      "cell_type": "markdown",
      "source": [
        "De esta forma es mas facil de eliminar transacciones contables iguales de distina naturaeza.Muy valioso para reconciliaciones contables"
      ],
      "metadata": {
        "id": "TbPQaITKlWqC"
      }
    }
  ]
}