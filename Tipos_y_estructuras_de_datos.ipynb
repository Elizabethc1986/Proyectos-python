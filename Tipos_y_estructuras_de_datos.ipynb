{
  "cells": [
    {
      "cell_type": "markdown",
      "metadata": {
        "id": "view-in-github",
        "colab_type": "text"
      },
      "source": [
        "<a href=\"https://colab.research.google.com/github/Elizabethc1986/Proyectos-python/blob/main/Tipos_y_estructuras_de_datos.ipynb\" target=\"_parent\"><img src=\"https://colab.research.google.com/assets/colab-badge.svg\" alt=\"Open In Colab\"/></a>"
      ]
    },
    {
      "cell_type": "markdown",
      "source": [
        "Ejercicio 1: Suma de números pares\n",
        "Escribe un programa que pida al usuario dos números enteros y calcule la suma de\n",
        "todos los números pares entre ellos. El programa deberá imprimir el resultado. (hint:\n",
        "utilice la función range() para generar la secuencia de números enteros)"
      ],
      "metadata": {
        "id": "doiiKM1kjBGd"
      }
    },
    {
      "cell_type": "code",
      "source": [
        "# la lista que se va a crear para sumar los numero con el nombre de \"suma\"\n",
        "suma = []\n",
        "numero1= int(input(\"escribe un numero,:\"))\n",
        "numero2 = int(input(\"escribe un numero,:\"))\n",
        "if numero1 %2 ==0:\n",
        "    suma.append(numero1)\n",
        "\n",
        "if numero2 %2 ==0:\n",
        "    suma.append(numero2)\n",
        "\n",
        "print(\"la suma de los numeros pares son:\", suma)"
      ],
      "metadata": {
        "id": "gpqpe1SIjC1R",
        "outputId": "472e3aa2-457e-43a3-d45f-234627e4a732",
        "colab": {
          "base_uri": "https://localhost:8080/"
        }
      },
      "execution_count": null,
      "outputs": [
        {
          "output_type": "stream",
          "name": "stdout",
          "text": [
            "escribe un numero,:13\n",
            "escribe un numero,:14\n",
            "la suma de los numeros pares son: [14]\n"
          ]
        }
      ]
    },
    {
      "cell_type": "markdown",
      "source": [
        "Ejercicio 2: Calculadora de áreas\n",
        "Escribe un programa que pida al usuario el tipo de figura geométrica de la que quiere\n",
        "calcular el área (cuadrado, triángulo o círculo) y las medidas correspondientes. El\n",
        "programa deberá calcular y mostrar el área de la figura seleccionada. (hint: para\n",
        "obtener el número pi puedes utilizar la librería math)"
      ],
      "metadata": {
        "id": "lq9MfJbzpElB"
      }
    },
    {
      "cell_type": "code",
      "source": [
        "# preguntar al usuario si quiere : Cuadrado ,triangulo o circulo\n",
        "import math\n",
        "\n",
        "figura = input(\"escribe la figura(cuadrado,triangulo o circulo):\").lower()\n",
        "if figura == \"cuadrado\":\n",
        "  lado1 = float(input(\"ingrese lado1 en cm\"))\n",
        "  lado2 = float(input(\"ingrese lado2 en cm\"))\n",
        "  area = lado1*lado2\n",
        "  print(f\"el area del cuadrado en cm2 es: {area}\")\n",
        "\n",
        "elif figura == \"triangulo\":\n",
        "   altura = float(input(\"ingrese la altura en cm:\"))\n",
        "   base = float(input(\"ingrese la base en cm:\"))\n",
        "   area= (altura*base)/2\n",
        "   print(f\"el area del triangulo en cm2 es: {area}\")\n",
        "\n",
        "elif figura == \"circulo\":\n",
        "   radio = float(input( \" ingrese el numero del radio\"))\n",
        "   area= math.pi *(radio**2)\n",
        "   print(f\"el area del circulo en cm2 es:{area}\")\n",
        "\n",
        "else:\n",
        "\n",
        "  print(\" No se reconoce la figura\")\n",
        "\n",
        "\n"
      ],
      "metadata": {
        "colab": {
          "base_uri": "https://localhost:8080/"
        },
        "id": "GSa1qR1SpKuA",
        "outputId": "07ed717a-4a10-4309-9bb5-0f7f22969bc8"
      },
      "execution_count": null,
      "outputs": [
        {
          "output_type": "stream",
          "name": "stdout",
          "text": [
            "escribe la figura(cuadrado,triangulo o circulo):Circulo\n",
            " ingrese el numero del radio4\n",
            "el area del circulo en cm2 es:50.26548245743669\n"
          ]
        }
      ]
    },
    {
      "cell_type": "markdown",
      "source": [
        "Ejercicio 3: Adivina el número\n",
        "Escribe un programa que genere un número aleatorio entre 1 y 100 y pida al usuario\n",
        "que adivine cuál es. El programa deberá dar pistas al usuario diciendo si el número\n",
        "que ha introducido es mayor o menor que el número aleatorio. El programa deberá\n",
        "continuar pidiendo números hasta que el usuario adivine el número correcto. (hint:\n",
        "utiliza un ciclo while para mantener al programa pidiendo números)"
      ],
      "metadata": {
        "id": "vcRj3sPqvuPM"
      }
    },
    {
      "cell_type": "code",
      "source": [
        "import random\n",
        "# generar un numero aleatorio entre 1 y 100\n",
        "\n",
        "numero = random.randint(1,100)\n",
        "\n",
        "print(\"cual es el numero? adivina:\")\n",
        "\n",
        "numero_usuario= 0\n",
        "while numero_usuario != numero:\n",
        "  numero_usuario = int(input(\"ingrese un numero:\"))\n",
        "  if numero_usuario < numero:\n",
        "    print(\"el numero es mayor\")\n",
        "  elif numero_usuario > numero:\n",
        "    print(\"el numero es menor\")\n",
        "  else:\n",
        "    print(f\"Ese es el numero secreto:{numero}\")\n"
      ],
      "metadata": {
        "colab": {
          "base_uri": "https://localhost:8080/"
        },
        "id": "jmjVPI2vvzYC",
        "outputId": "cef63e3c-5514-4342-aa2c-f9ecce578fa6"
      },
      "execution_count": null,
      "outputs": [
        {
          "output_type": "stream",
          "name": "stdout",
          "text": [
            "cual es el numero? adivina:\n",
            "ingrese un numero:20\n",
            "el numero es mayor\n",
            "ingrese un numero:30\n",
            "el numero es mayor\n",
            "ingrese un numero:50\n",
            "el numero es menor\n",
            "ingrese un numero:40\n",
            "el numero es menor\n",
            "ingrese un numero:35\n",
            "Ese es el numero secreto:35\n"
          ]
        }
      ]
    },
    {
      "cell_type": "markdown",
      "source": [
        "Ejercicio 4: Carrera de pollos\n",
        "Crea un programa que simule segundo a segundo la acción de un pollo que recorre una\n",
        "distancia de 100 metros. Pide al usuario que ingrese la velocidad a la que puede correr el\n",
        "pollo, y usando un ciclo while muestra un emoji de pollo🐥que se vaya moviendo hacia la\n",
        "derecha en cada impresión, como se muestra en los ejemplos."
      ],
      "metadata": {
        "id": "6zzsNREV1kRK"
      }
    },
    {
      "cell_type": "code",
      "source": [
        "import time\n",
        "\n",
        "# Pedir la velocidad\n",
        "velocidad = int(input(\"Ingrese la velocidad del pollo en metros/segundo: \"))\n",
        "\n",
        "# Variables\n",
        "distancia = 100\n",
        "recorrido = 0\n",
        "\n",
        "print(\"la carrera del pollo! 🐥\")\n",
        "\n",
        "while recorrido < distancia:\n",
        "    # El pollo avanza según la velocidad\n",
        "    recorrido += velocidad\n",
        "\n",
        "    # Aseguramos que no pase de 100\n",
        "    if recorrido > distancia:\n",
        "        recorrido = distancia\n",
        "\n",
        "    # Mostrar al pollo en la pista\n",
        "    print(\" \" * recorrido + \"🐥\")\n",
        "\n",
        "    # Generar pausas de 1 segundo\n",
        "    time.sleep(1)\n",
        "\n",
        "print(\"¡El pollo llegó a la meta\")"
      ],
      "metadata": {
        "colab": {
          "base_uri": "https://localhost:8080/"
        },
        "id": "UpQACLkL1lQZ",
        "outputId": "23e7e49d-fa80-40fd-eded-bcd75a9fc579"
      },
      "execution_count": null,
      "outputs": [
        {
          "output_type": "stream",
          "name": "stdout",
          "text": [
            "Ingrese la velocidad del pollo en metros/segundo: 30\n",
            "la carrera del pollo! 🐥\n",
            "                              🐥\n",
            "                                                            🐥\n",
            "                                                                                          🐥\n",
            "                                                                                                    🐥\n",
            "¡El pollo llegó a la meta\n"
          ]
        }
      ]
    }
  ],
  "metadata": {
    "colab": {
      "toc_visible": true,
      "provenance": [],
      "include_colab_link": true
    },
    "kernelspec": {
      "display_name": "Python 3",
      "name": "python3"
    }
  },
  "nbformat": 4,
  "nbformat_minor": 0
}