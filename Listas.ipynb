{
  "cells": [
    {
      "cell_type": "markdown",
      "metadata": {
        "id": "view-in-github",
        "colab_type": "text"
      },
      "source": [
        "<a href=\"https://colab.research.google.com/github/Elizabethc1986/Proyectos-python/blob/main/Listas.ipynb\" target=\"_parent\"><img src=\"https://colab.research.google.com/assets/colab-badge.svg\" alt=\"Open In Colab\"/></a>"
      ]
    },
    {
      "cell_type": "markdown",
      "source": [
        "1. Usando la siguiente lista:\n",
        "lista = [\"manzana\", \"pera\", \"naranja\", \"plátano\", \"kiwi\", \"uva\", \"piña\",\n",
        "\"mango\", \"sandía\", \"melón\"]\n",
        "a. Imprime el quinto elemento de la lista.\n",
        "b. Imprime del cuarto al sexto inclusive.\n",
        "c. Elimina el elemento en la posición 3\n",
        "d. Agrega dos nuevos elementos a la lista\n",
        "e. Ordena la lista alfabéticamente.\n",
        "f. Genera un diccionario usando lista1 como llaves y lista como valores.\n",
        "lista1 = [\"uno\", \"dos\", \"tres\", \"cuatro\", \"cinco\", \"seis\", \"siete\",\n",
        "\"ocho\", \"nueve\", \"diez\"]"
      ],
      "metadata": {
        "id": "BvzIZaf20BZm"
      }
    },
    {
      "cell_type": "markdown",
      "source": [
        "Imprime el quinto elemento de la lista."
      ],
      "metadata": {
        "id": "16SIbb1U13EQ"
      }
    },
    {
      "cell_type": "code",
      "source": [
        "lista = [\"manzana\", \"pera\", \"naranja\", \"plátano\", \"kiwi\", \"uva\", \"piña\", \"mango\", \"sandía\", \"melón\"]\n",
        "lista[4]"
      ],
      "metadata": {
        "colab": {
          "base_uri": "https://localhost:8080/",
          "height": 35
        },
        "id": "pV9q7GGI0J5q",
        "outputId": "fdb1cec3-1834-41d1-e89c-9ee60b21d732"
      },
      "execution_count": null,
      "outputs": [
        {
          "output_type": "execute_result",
          "data": {
            "text/plain": [
              "'kiwi'"
            ],
            "application/vnd.google.colaboratory.intrinsic+json": {
              "type": "string"
            }
          },
          "metadata": {},
          "execution_count": 4
        }
      ]
    },
    {
      "cell_type": "markdown",
      "source": [
        "Imprime del cuarto al sexto inclusive"
      ],
      "metadata": {
        "id": "D7oqGH752nGu"
      }
    },
    {
      "cell_type": "code",
      "source": [
        "lista[3:6]"
      ],
      "metadata": {
        "colab": {
          "base_uri": "https://localhost:8080/"
        },
        "id": "wScDjfGc2pKa",
        "outputId": "b5c3e0c3-5970-4179-de44-a61f165233c6"
      },
      "execution_count": null,
      "outputs": [
        {
          "output_type": "execute_result",
          "data": {
            "text/plain": [
              "['plátano', 'kiwi', 'uva']"
            ]
          },
          "metadata": {},
          "execution_count": 5
        }
      ]
    },
    {
      "cell_type": "markdown",
      "source": [
        "Elimina el elemento en la posición"
      ],
      "metadata": {
        "id": "hyEKkjO531FM"
      }
    },
    {
      "cell_type": "code",
      "source": [
        "del lista[2]\n",
        "print(lista)"
      ],
      "metadata": {
        "colab": {
          "base_uri": "https://localhost:8080/"
        },
        "id": "mXMjeDi932OR",
        "outputId": "1ce62145-4de2-4d74-d6d6-b42526edd0e6"
      },
      "execution_count": null,
      "outputs": [
        {
          "output_type": "stream",
          "name": "stdout",
          "text": [
            "['manzana', 'pera', 'kiwi', 'uva', 'piña', 'mango', 'sandía', 'melón']\n"
          ]
        }
      ]
    },
    {
      "cell_type": "markdown",
      "source": [
        "Agrega dos nuevos elementos a la lista"
      ],
      "metadata": {
        "id": "1TgppV6f4Et2"
      }
    },
    {
      "cell_type": "code",
      "source": [
        "lista.append(\"banana\")\n",
        "lista.append(\"tomate\")\n",
        "print(lista)"
      ],
      "metadata": {
        "colab": {
          "base_uri": "https://localhost:8080/"
        },
        "id": "wMGjkLxu4aII",
        "outputId": "4df018e5-bc2d-4ca3-92ae-1cdc26b7dc49"
      },
      "execution_count": null,
      "outputs": [
        {
          "output_type": "stream",
          "name": "stdout",
          "text": [
            "['manzana', 'pera', 'kiwi', 'uva', 'piña', 'mango', 'sandía', 'melón', 'banana', 'tomate']\n"
          ]
        }
      ]
    },
    {
      "cell_type": "markdown",
      "source": [
        "Ordena la lista alfabéticamente."
      ],
      "metadata": {
        "id": "6hSmFwtz4rMA"
      }
    },
    {
      "cell_type": "code",
      "source": [
        "lista.sort()\n",
        "print(lista)"
      ],
      "metadata": {
        "colab": {
          "base_uri": "https://localhost:8080/"
        },
        "id": "zW43Jnew5VFl",
        "outputId": "359d1bb3-b38f-496f-aaa3-a3958549e271"
      },
      "execution_count": null,
      "outputs": [
        {
          "output_type": "stream",
          "name": "stdout",
          "text": [
            "['banana', 'kiwi', 'mango', 'manzana', 'melón', 'pera', 'piña', 'sandía', 'tomate', 'uva']\n"
          ]
        }
      ]
    },
    {
      "cell_type": "markdown",
      "source": [
        "Genera un diccionario usando lista1 como llaves y lista como valores."
      ],
      "metadata": {
        "id": "st8-UJSm5hrJ"
      }
    },
    {
      "cell_type": "code",
      "source": [
        "lista = [\"manzana\", \"pera\", \"naranja\", \"plátano\", \"kiwi\", \"uva\", \"piña\",\n",
        "\"mango\", \"sandía\", \"melón\"]\n",
        "lista1 = [\"uno\", \"dos\", \"tres\", \"cuatro\", \"cinco\", \"seis\", \"siete\",\n",
        "\"ocho\", \"nueve\", \"diez\"]\n",
        "\n",
        "diccionario1 = dict(zip(lista1, lista))\n",
        "print(diccionario1)"
      ],
      "metadata": {
        "colab": {
          "base_uri": "https://localhost:8080/"
        },
        "id": "lfRWuXkW55Oe",
        "outputId": "26a37671-b690-48ec-dd97-ae305c846c71"
      },
      "execution_count": null,
      "outputs": [
        {
          "output_type": "stream",
          "name": "stdout",
          "text": [
            "{'uno': 'manzana', 'dos': 'pera', 'tres': 'naranja', 'cuatro': 'plátano', 'cinco': 'kiwi', 'seis': 'uva', 'siete': 'piña', 'ocho': 'mango', 'nueve': 'sandía', 'diez': 'melón'}\n"
          ]
        }
      ]
    },
    {
      "cell_type": "markdown",
      "source": [
        "Fabricación de cerveza artesanal\n",
        "El LIC y el LSC son calculados utilizando la media y la desviación estándar de los datos del\n",
        "proceso. La idea es que la mayoría de los datos del proceso se encuentren dentro de los límites\n",
        "de control (entre el LIC y el LSC), y si un dato cae fuera de estos límites, se puede considerar\n",
        "que el proceso está fuera de control y se requiere una acción correctiva para investigar y\n",
        "corregir la causa de la variación. El valor del LIC se calcula como la media menos tres veces la\n",
        "desviación estándar, y el valor del LSC se calcula como la media más tres veces la\n",
        "desviación estándar. Estos límites representan el rango en el que la mayoría de los datos del\n",
        "proceso deberían estar.Para poder asegurar de que la cantidad de alcohol en cada lote de cerveza sea consistente,\n",
        "debes medir el porcentaje de alcohol de cada lote y registrar los datos en una hoja de cálculo.\n",
        "Esta información ya ha sido recolectada y se encuentra en el archivo alcohol_cerveza.csv.\n",
        "El objetivo del ejercicio es calcular la media, la desviación estándar, el LIC y el LSC del\n",
        "porcentaje de alcohol y guardarlos en variables.\n",
        "Para asegurarte de que los lotes de cerveza se estén elaborando de forma consistente y que el\n",
        "nivel de alcohol sea el adecuado, una vez calculadas las medidas anteriores, indicar cuáles\n",
        "valores quedarían fuera de los límites de control y cuántos son."
      ],
      "metadata": {
        "id": "3j28aD7i7CX6"
      }
    },
    {
      "cell_type": "code",
      "source": [
        "from google.colab import files\n",
        "import pandas as pd\n",
        "import numpy as np\n",
        "\n",
        "# Subir archivo\n",
        "uploaded = files.upload()\n",
        "\n",
        "# Leer CSV\n",
        "df = pd.read_csv(\"alcohol_cerveza.csv\")\n",
        "print(df.head())\n",
        "\n",
        "array = np.loadtxt(\"alcohol_cerveza.csv\", delimiter=\",\", skiprows=1)\n",
        "\n",
        "# Calcular la media\n",
        "media = np.mean(array)\n",
        "print(media)\n",
        "\n",
        "# Calcular la desviación estándar\n",
        "desviacion = np.std(array)\n",
        "print(desviacion)\n",
        "\n",
        "# Calcula el límite inferior de control (LIC)\n",
        "lic = media - (3 * desviacion)\n",
        "\n",
        "#Calcula el límite superior de control (LSC)\n",
        "lsc = media + (3 * desviacion)\n",
        "print(lic)\n",
        "print(lsc)\n",
        "\n",
        "# Filtrar valores fuera de control\n",
        "fuera_control = array[np.logical_or(array < lic, array > lsc)]\n",
        "\n",
        "print(\"Valores fuera de control:\", fuera_control)"
      ],
      "metadata": {
        "colab": {
          "base_uri": "https://localhost:8080/",
          "height": 246
        },
        "id": "Oj1gWovt7Dh0",
        "outputId": "552efc39-cb21-4b9f-885e-047cf9f93395"
      },
      "execution_count": null,
      "outputs": [
        {
          "output_type": "display_data",
          "data": {
            "text/plain": [
              "<IPython.core.display.HTML object>"
            ],
            "text/html": [
              "\n",
              "     <input type=\"file\" id=\"files-c0624104-b2fd-4f36-9cef-2377bb71960e\" name=\"files[]\" multiple disabled\n",
              "        style=\"border:none\" />\n",
              "     <output id=\"result-c0624104-b2fd-4f36-9cef-2377bb71960e\">\n",
              "      Upload widget is only available when the cell has been executed in the\n",
              "      current browser session. Please rerun this cell to enable.\n",
              "      </output>\n",
              "      <script>// Copyright 2017 Google LLC\n",
              "//\n",
              "// Licensed under the Apache License, Version 2.0 (the \"License\");\n",
              "// you may not use this file except in compliance with the License.\n",
              "// You may obtain a copy of the License at\n",
              "//\n",
              "//      http://www.apache.org/licenses/LICENSE-2.0\n",
              "//\n",
              "// Unless required by applicable law or agreed to in writing, software\n",
              "// distributed under the License is distributed on an \"AS IS\" BASIS,\n",
              "// WITHOUT WARRANTIES OR CONDITIONS OF ANY KIND, either express or implied.\n",
              "// See the License for the specific language governing permissions and\n",
              "// limitations under the License.\n",
              "\n",
              "/**\n",
              " * @fileoverview Helpers for google.colab Python module.\n",
              " */\n",
              "(function(scope) {\n",
              "function span(text, styleAttributes = {}) {\n",
              "  const element = document.createElement('span');\n",
              "  element.textContent = text;\n",
              "  for (const key of Object.keys(styleAttributes)) {\n",
              "    element.style[key] = styleAttributes[key];\n",
              "  }\n",
              "  return element;\n",
              "}\n",
              "\n",
              "// Max number of bytes which will be uploaded at a time.\n",
              "const MAX_PAYLOAD_SIZE = 100 * 1024;\n",
              "\n",
              "function _uploadFiles(inputId, outputId) {\n",
              "  const steps = uploadFilesStep(inputId, outputId);\n",
              "  const outputElement = document.getElementById(outputId);\n",
              "  // Cache steps on the outputElement to make it available for the next call\n",
              "  // to uploadFilesContinue from Python.\n",
              "  outputElement.steps = steps;\n",
              "\n",
              "  return _uploadFilesContinue(outputId);\n",
              "}\n",
              "\n",
              "// This is roughly an async generator (not supported in the browser yet),\n",
              "// where there are multiple asynchronous steps and the Python side is going\n",
              "// to poll for completion of each step.\n",
              "// This uses a Promise to block the python side on completion of each step,\n",
              "// then passes the result of the previous step as the input to the next step.\n",
              "function _uploadFilesContinue(outputId) {\n",
              "  const outputElement = document.getElementById(outputId);\n",
              "  const steps = outputElement.steps;\n",
              "\n",
              "  const next = steps.next(outputElement.lastPromiseValue);\n",
              "  return Promise.resolve(next.value.promise).then((value) => {\n",
              "    // Cache the last promise value to make it available to the next\n",
              "    // step of the generator.\n",
              "    outputElement.lastPromiseValue = value;\n",
              "    return next.value.response;\n",
              "  });\n",
              "}\n",
              "\n",
              "/**\n",
              " * Generator function which is called between each async step of the upload\n",
              " * process.\n",
              " * @param {string} inputId Element ID of the input file picker element.\n",
              " * @param {string} outputId Element ID of the output display.\n",
              " * @return {!Iterable<!Object>} Iterable of next steps.\n",
              " */\n",
              "function* uploadFilesStep(inputId, outputId) {\n",
              "  const inputElement = document.getElementById(inputId);\n",
              "  inputElement.disabled = false;\n",
              "\n",
              "  const outputElement = document.getElementById(outputId);\n",
              "  outputElement.innerHTML = '';\n",
              "\n",
              "  const pickedPromise = new Promise((resolve) => {\n",
              "    inputElement.addEventListener('change', (e) => {\n",
              "      resolve(e.target.files);\n",
              "    });\n",
              "  });\n",
              "\n",
              "  const cancel = document.createElement('button');\n",
              "  inputElement.parentElement.appendChild(cancel);\n",
              "  cancel.textContent = 'Cancel upload';\n",
              "  const cancelPromise = new Promise((resolve) => {\n",
              "    cancel.onclick = () => {\n",
              "      resolve(null);\n",
              "    };\n",
              "  });\n",
              "\n",
              "  // Wait for the user to pick the files.\n",
              "  const files = yield {\n",
              "    promise: Promise.race([pickedPromise, cancelPromise]),\n",
              "    response: {\n",
              "      action: 'starting',\n",
              "    }\n",
              "  };\n",
              "\n",
              "  cancel.remove();\n",
              "\n",
              "  // Disable the input element since further picks are not allowed.\n",
              "  inputElement.disabled = true;\n",
              "\n",
              "  if (!files) {\n",
              "    return {\n",
              "      response: {\n",
              "        action: 'complete',\n",
              "      }\n",
              "    };\n",
              "  }\n",
              "\n",
              "  for (const file of files) {\n",
              "    const li = document.createElement('li');\n",
              "    li.append(span(file.name, {fontWeight: 'bold'}));\n",
              "    li.append(span(\n",
              "        `(${file.type || 'n/a'}) - ${file.size} bytes, ` +\n",
              "        `last modified: ${\n",
              "            file.lastModifiedDate ? file.lastModifiedDate.toLocaleDateString() :\n",
              "                                    'n/a'} - `));\n",
              "    const percent = span('0% done');\n",
              "    li.appendChild(percent);\n",
              "\n",
              "    outputElement.appendChild(li);\n",
              "\n",
              "    const fileDataPromise = new Promise((resolve) => {\n",
              "      const reader = new FileReader();\n",
              "      reader.onload = (e) => {\n",
              "        resolve(e.target.result);\n",
              "      };\n",
              "      reader.readAsArrayBuffer(file);\n",
              "    });\n",
              "    // Wait for the data to be ready.\n",
              "    let fileData = yield {\n",
              "      promise: fileDataPromise,\n",
              "      response: {\n",
              "        action: 'continue',\n",
              "      }\n",
              "    };\n",
              "\n",
              "    // Use a chunked sending to avoid message size limits. See b/62115660.\n",
              "    let position = 0;\n",
              "    do {\n",
              "      const length = Math.min(fileData.byteLength - position, MAX_PAYLOAD_SIZE);\n",
              "      const chunk = new Uint8Array(fileData, position, length);\n",
              "      position += length;\n",
              "\n",
              "      const base64 = btoa(String.fromCharCode.apply(null, chunk));\n",
              "      yield {\n",
              "        response: {\n",
              "          action: 'append',\n",
              "          file: file.name,\n",
              "          data: base64,\n",
              "        },\n",
              "      };\n",
              "\n",
              "      let percentDone = fileData.byteLength === 0 ?\n",
              "          100 :\n",
              "          Math.round((position / fileData.byteLength) * 100);\n",
              "      percent.textContent = `${percentDone}% done`;\n",
              "\n",
              "    } while (position < fileData.byteLength);\n",
              "  }\n",
              "\n",
              "  // All done.\n",
              "  yield {\n",
              "    response: {\n",
              "      action: 'complete',\n",
              "    }\n",
              "  };\n",
              "}\n",
              "\n",
              "scope.google = scope.google || {};\n",
              "scope.google.colab = scope.google.colab || {};\n",
              "scope.google.colab._files = {\n",
              "  _uploadFiles,\n",
              "  _uploadFilesContinue,\n",
              "};\n",
              "})(self);\n",
              "</script> "
            ]
          },
          "metadata": {}
        },
        {
          "output_type": "stream",
          "name": "stdout",
          "text": [
            "Saving alcohol_cerveza.csv to alcohol_cerveza (9).csv\n",
            "      0\n",
            "0  5.06\n",
            "1  4.29\n",
            "2  4.84\n",
            "3  4.93\n",
            "4  5.09\n",
            "5.01034\n",
            "0.31158992987579043\n",
            "4.075570210372629\n",
            "5.945109789627372\n",
            "Valores fuera de control: [3.87 6.02]\n"
          ]
        }
      ]
    },
    {
      "cell_type": "markdown",
      "source": [
        "Calcula la media de los datos utilizando la función mean de NumPy y almacena el\n",
        "resultado en una variable llamada media."
      ],
      "metadata": {
        "id": "jY4cy2WZHaeF"
      }
    },
    {
      "cell_type": "code",
      "source": [],
      "metadata": {
        "id": "xICm4NdtHbpY"
      },
      "execution_count": null,
      "outputs": []
    }
  ],
  "metadata": {
    "colab": {
      "provenance": [],
      "include_colab_link": true
    },
    "kernelspec": {
      "display_name": "Python 3",
      "name": "python3"
    }
  },
  "nbformat": 4,
  "nbformat_minor": 0
}