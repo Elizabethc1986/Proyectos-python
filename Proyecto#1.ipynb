{
 "cells": [
  {
   "cell_type": "markdown",
   "id": "7ce7b461-c33a-49d3-aa37-6a65e6ebb556",
   "metadata": {},
   "source": [
    "\n",
    " Un vendedor gana un salario base de $500 más una comisión del 10% sobre sus\n",
    " ventas totales. Escribe un programa donde se pueda ingresar el monto de las ventas\n",
    " totales del vendedor y calcule su salario total."
   ]
  },
  {
   "cell_type": "code",
   "execution_count": 2,
   "id": "77e54b82-8a64-4037-a4ca-11ae526cca31",
   "metadata": {},
   "outputs": [
    {
     "name": "stdin",
     "output_type": "stream",
     "text": [
      "ingrese ventas 230\n"
     ]
    },
    {
     "name": "stdout",
     "output_type": "stream",
     "text": [
      "el salario es de 523.0\n"
     ]
    }
   ],
   "source": [
    "\n",
    "salario_base = 500\n",
    "comision = 0.10\n",
    "ventas = float(input(\"ingrese ventas\"))\n",
    "salario_total = ventas*comision + salario_base\n",
    "print(f\"el salario es de {salario_total}\")"
   ]
  },
  {
   "cell_type": "markdown",
   "id": "bd40591d-37fe-47c1-b1ce-a57c977fb954",
   "metadata": {},
   "source": [
    "En este ejercicio, vamos a crear un diccionario vacío llamado catalogo_frutas {'fruta':\n",
    " precio} y agregar algunas frutas con sus precios. Luego, le pediremos al usuario que\n",
    " ingrese el nombre de una fruta y verificaremos si esa fruta está en el diccionario. Si\n",
    " la fruta está en el diccionario, mostraremos el precio al usuario. Si la fruta no está en\n",
    " el diccionario, le diremos al usuario que no se encuentra esa fruta en nuestra tienda"
   ]
  },
  {
   "cell_type": "code",
   "execution_count": 5,
   "id": "7aea8941-67ce-4184-9c23-ddb0a8c30fee",
   "metadata": {},
   "outputs": [
    {
     "name": "stdin",
     "output_type": "stream",
     "text": [
      "ingrese el nombre de la fruta pera\n"
     ]
    },
    {
     "name": "stdout",
     "output_type": "stream",
     "text": [
      "la fruta no esta en nuestra tienda\n"
     ]
    }
   ],
   "source": [
    "Catalogo_frutas= {\"banano\":50, \"manzana\":100, \"piña\":120, \"cerezas\":23}\n",
    "nombre_fruta = input(\"ingrese el nombre de la fruta\")\n",
    "print(Catalogo_frutas.get(nombre_fruta, \"la fruta no esta en nuestra tienda\"))"
   ]
  },
  {
   "cell_type": "markdown",
   "id": "254a20cf-d43a-4f57-8995-a6f2b870ae9a",
   "metadata": {},
   "source": [
    " En este juego, tienes que lanzar dos dados y el programa mostrará los valores\n",
    " obtenidos en cada dado y la suma de ambos valores. Debes generar dos números\n",
    " aleatorios entre 1 y 6 que representan los valores obtenidos en cada dado usando la\n",
    " librería random. Luego, el programa debe mostrar los valores obtenidos en cada\n",
    " dado y la suma deambosvalores en la pantalla."
   ]
  },
  {
   "cell_type": "code",
   "execution_count": 18,
   "id": "2da20da5-b044-480f-ac85-4256f36258a1",
   "metadata": {},
   "outputs": [
    {
     "name": "stdout",
     "output_type": "stream",
     "text": [
      "4\n",
      "5\n",
      "El resultado de la suma es 9\n"
     ]
    }
   ],
   "source": [
    "import random\n",
    "\n",
    "dado1 = [1, 2, 3, 4, 5, 6]\n",
    "dado2 = [1, 2, 3, 4, 5, 6]\n",
    "\n",
    "resultado1 = random.choice(dado1)\n",
    "resultado2 = random.choice(dado2)\n",
    "print(f\"{resultado1}\")\n",
    "print(f\"{resultado2}\")\n",
    "resultado = resultado1 + resultado2\n",
    "print(f\"El resultado de la suma es {resultado}\")\n"
   ]
  },
  {
   "cell_type": "markdown",
   "id": "90422976-4c5c-41e1-8d6a-b48e367c529e",
   "metadata": {},
   "source": [
    " Crea un programa que calcule la cantidad de chocolate que puedes comer sin\n",
    " pasarte de tu límite diario de calorías. El programa debe preguntar al usuario su\n",
    " límite diario de calorías y la cantidad de calorías que tiene una porción de chocolate.\n",
    " Luego, debe calcular la cantidad máxima de chocolate que se puede comer sin\n",
    " exceder el límite diario de calorías y mostrarla en pantalla."
   ]
  },
  {
   "cell_type": "code",
   "execution_count": 21,
   "id": "3a72742b-97df-4cca-b0f7-69abd4c23dc2",
   "metadata": {},
   "outputs": [
    {
     "name": "stdin",
     "output_type": "stream",
     "text": [
      "cual es el limite de calorias? 1000\n",
      "calorias por porcion 150\n"
     ]
    },
    {
     "name": "stdout",
     "output_type": "stream",
     "text": [
      "consumir maximo 6 porciones\n"
     ]
    }
   ],
   "source": [
    "limite_calorias = float(input(\"cual es el limite de calorias?\"))\n",
    "porcion_calorias = float(input(\"calorias por porcion\"))\n",
    "cantidad_max = int(limite_calorias//porcion_calorias)\n",
    "print(f\"consumir maximo {cantidad_max} porciones\")"
   ]
  },
  {
   "cell_type": "code",
   "execution_count": null,
   "id": "3306b580-f2e3-4f92-8b1b-a174006b30be",
   "metadata": {},
   "outputs": [],
   "source": []
  }
 ],
 "metadata": {
  "kernelspec": {
   "display_name": "Python 3 (ipykernel)",
   "language": "python",
   "name": "python3"
  },
  "language_info": {
   "codemirror_mode": {
    "name": "ipython",
    "version": 3
   },
   "file_extension": ".py",
   "mimetype": "text/x-python",
   "name": "python",
   "nbconvert_exporter": "python",
   "pygments_lexer": "ipython3",
   "version": "3.12.7"
  }
 },
 "nbformat": 4,
 "nbformat_minor": 5
}
