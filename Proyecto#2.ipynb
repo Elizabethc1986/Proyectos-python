{
 "cells": [
  {
   "cell_type": "markdown",
   "id": "e37ed5e4-0b36-4d2d-8c0a-08d6ca12138f",
   "metadata": {},
   "source": [
    "#Escribe un programa que pida al usuario dos números enteros y calcule la suma de\n",
    " todos los números pares entre ellos. El programa deberá imprimir el resultado. (hint:\n",
    " utilice la función range() para generar la secuencia de números enteros)#\n",
    " "
   ]
  },
  {
   "cell_type": "code",
   "execution_count": 1,
   "id": "2bf42384-3d2b-4d9d-80a9-9f5ecf009a9a",
   "metadata": {},
   "outputs": [
    {
     "name": "stdin",
     "output_type": "stream",
     "text": [
      "Ingrese el primer número:  2\n",
      "Ingrese el segundo número:  8\n"
     ]
    },
    {
     "name": "stdout",
     "output_type": "stream",
     "text": [
      " la suma de los numeros pares entre 2 y 8 es: 20\n"
     ]
    }
   ],
   "source": [
    "\n",
    "num1 = int(input(\"Ingrese el primer número: \"))  # inresar dos numeros enteros\n",
    "num2 = int(input(\"Ingrese el segundo número: \")) #ingresar dos numeros enteros\n",
    "\n",
    "suma= 0   #contador\n",
    "if num1 > num2: ##condicional numero mayor o menor\n",
    "    num1, num2 = num2, num1 \n",
    "    \n",
    "for i in range(num1,num2+1):   # generar los numeros pares entre los numeros generados\n",
    "      if i % 2 == 0:  # comprobar si el numero es par\n",
    "        suma += i # si se cumple que es par ,se suman los numeros.\n",
    "\n",
    "print(f\" la suma de los numeros pares entre {num1} y {num2} es: {suma}\") # mostrar los nuemros iniciales y la suma engre ellos\n"
   ]
  },
  {
   "cell_type": "markdown",
   "id": "c22c30e5-b112-407e-8e09-f517cc52fd34",
   "metadata": {},
   "source": [
    "# 2: Calculadora de áreas\n",
    " Escribe un programa que pida al usuario el tipo de figura geométrica de la que quiere\n",
    " calcular el área (cuadrado, triángulo o círculo) y las medidas correspondientes. El\n",
    " programa deberá calcular y mostrar el área de la figura seleccionada. (hint: para\n",
    " obtener el número pi puedes utilizar la librería math)#"
   ]
  },
  {
   "cell_type": "code",
   "execution_count": 2,
   "id": "5956b9bf-a777-41b2-8341-d4873ff16aa2",
   "metadata": {},
   "outputs": [
    {
     "name": "stdin",
     "output_type": "stream",
     "text": [
      "Ingrese la figura geométrica (cuadrado, triangulo o circulo):  circulo\n",
      "Ingrese la medida del radio en cm:  5\n"
     ]
    },
    {
     "name": "stdout",
     "output_type": "stream",
     "text": [
      "El área del círculo es: 78.54 cm²\n"
     ]
    }
   ],
   "source": [
    "import math  # Importar modulo import\n",
    "\n",
    "\n",
    "figura = input(\"Ingrese la figura geométrica (cuadrado, triangulo o circulo): \").lower()  # ingresar la figura geometrica\n",
    "\n",
    "\n",
    "if figura == \"cuadrado\":   #dependiendo de la figura hacer los calculos del area e imprimirlos\n",
    "    lado = float(input(\"Ingrese la medida de un lado en cm: \"))\n",
    "    area_cuadrado = lado ** 2\n",
    "    print(f\"El área del cuadrado es: {area_cuadrado} cm²\")\n",
    "    \n",
    "elif figura == \"triangulo\":  #dependiendo de la figura hacer los calculos del area e imprimirlos\n",
    "    base = float(input(\"Ingrese la medida de la base en cm: \"))\n",
    "    altura = float(input(\"Ingrese la medida de la altura en cm: \"))\n",
    "    area_triangulo = (base * altura) / 2\n",
    "    print(f\"El área del triángulo es: {area_triangulo} cm²\")\n",
    "    \n",
    "elif figura == \"circulo\":  #dependiendo de la figura hacer los calculos del area e imprimirlos\n",
    "    radio = float(input(\"Ingrese la medida del radio en cm: \"))\n",
    "    area_circulo = math.pi * radio ** 2\n",
    "    print(f\"El área del círculo es: {area_circulo:.2f} cm²\")\n",
    "\n",
    "else:\n",
    "    print(\"escoger la respuesta correcta.\")\n",
    "\n",
    "\n"
   ]
  },
  {
   "cell_type": "code",
   "execution_count": null,
   "id": "fcda9dc4-f415-4dae-a0d3-0c36689f035e",
   "metadata": {},
   "outputs": [],
   "source": [
    " #Ejercicio 3: Adivina el número\n",
    " Escribe un programa que genere un número aleatorio entre 1 y 100 y pida al usuario\n",
    " que adivine cuál es. El programa deberá dar pistas al usuario diciendo si el número\n",
    " que ha introducido es mayor o menor que el número aleatorio. El programa deberá\n",
    " continuar pidiendo números hasta que el usuario adivine el número correcto. (hint:\n",
    " utiliza un ciclo while para mantener al programa pidiendo números#\n"
   ]
  },
  {
   "cell_type": "code",
   "execution_count": 3,
   "id": "418fc99d-c3ed-40b6-9f85-5f32b334df19",
   "metadata": {},
   "outputs": [
    {
     "name": "stdin",
     "output_type": "stream",
     "text": [
      "cual es  el número entre 1 y 100?:  4\n"
     ]
    },
    {
     "name": "stdout",
     "output_type": "stream",
     "text": [
      "El número es mayor. Intenta de nuevo.\n"
     ]
    },
    {
     "name": "stdin",
     "output_type": "stream",
     "text": [
      "cual es  el número entre 1 y 100?:  8\n"
     ]
    },
    {
     "name": "stdout",
     "output_type": "stream",
     "text": [
      "El número es mayor. Intenta de nuevo.\n"
     ]
    },
    {
     "name": "stdin",
     "output_type": "stream",
     "text": [
      "cual es  el número entre 1 y 100?:  40\n"
     ]
    },
    {
     "name": "stdout",
     "output_type": "stream",
     "text": [
      "El número es mayor. Intenta de nuevo.\n"
     ]
    },
    {
     "name": "stdin",
     "output_type": "stream",
     "text": [
      "cual es  el número entre 1 y 100?:  60\n"
     ]
    },
    {
     "name": "stdout",
     "output_type": "stream",
     "text": [
      "El número es menor. Intenta de nuevo.\n"
     ]
    },
    {
     "name": "stdin",
     "output_type": "stream",
     "text": [
      "cual es  el número entre 1 y 100?:  50\n"
     ]
    },
    {
     "name": "stdout",
     "output_type": "stream",
     "text": [
      "El número es mayor. Intenta de nuevo.\n"
     ]
    },
    {
     "name": "stdin",
     "output_type": "stream",
     "text": [
      "cual es  el número entre 1 y 100?:  55\n"
     ]
    },
    {
     "name": "stdout",
     "output_type": "stream",
     "text": [
      "El número es menor. Intenta de nuevo.\n"
     ]
    },
    {
     "name": "stdin",
     "output_type": "stream",
     "text": [
      "cual es  el número entre 1 y 100?:  51\n"
     ]
    },
    {
     "name": "stdout",
     "output_type": "stream",
     "text": [
      "El número es mayor. Intenta de nuevo.\n"
     ]
    },
    {
     "name": "stdin",
     "output_type": "stream",
     "text": [
      "cual es  el número entre 1 y 100?:  52\n"
     ]
    },
    {
     "name": "stdout",
     "output_type": "stream",
     "text": [
      "¡Lo encontraste! Este el número 52.\n"
     ]
    }
   ],
   "source": [
    "import random  # Importar módulo random \n",
    "\n",
    "\n",
    "numero_aleatorio = random.randint(1, 100) #numero aleatorio entre 1 y 100\n",
    "\n",
    "\n",
    "numero = None  #variable de respuesta del usuario\n",
    "\n",
    "\n",
    "while numero != numero_aleatorio:     # ciclo while para pedir números hasta que se adivine\n",
    "    \n",
    "   \n",
    "    numero = int(input(\"cual es  el número entre 1 y 100?: \"))   # El ususario ingresa un número\n",
    "    \n",
    " \n",
    "    if numero < numero_aleatorio:        # Pistas\n",
    "        print(\"El número es mayor. Intenta de nuevo.\")\n",
    "    elif numero > numero_aleatorio:\n",
    "        print(\"El número es menor. Intenta de nuevo.\")\n",
    "    \n",
    "# Cuando se encuentre el numero , mostramos un mensaje \n",
    "print(f\"¡Lo encontraste! Este el número {numero_aleatorio}.\")"
   ]
  },
  {
   "cell_type": "markdown",
   "id": "a1a04ca2-9b46-4706-bcd6-510077ca31d8",
   "metadata": {},
   "source": [
    " #Crea un programa que simule segundo a segundo la acción de un pollo que recorre una\n",
    " distancia de 100 metros. Pide al usuario que ingrese la velocidad a la que puede correr el\n",
    " pollo, y usando un ciclo while muestra un emoji de pollo \n",
    "�\n",
    "� \n",
    "que se vaya moviendo hacia la\n",
    " derecha en cada impresión, como se muestra en los ejemplos.#"
   ]
  },
  {
   "cell_type": "code",
   "execution_count": 4,
   "id": "36424449-e331-4bcd-a759-c628ec2a43d2",
   "metadata": {},
   "outputs": [
    {
     "name": "stdin",
     "output_type": "stream",
     "text": [
      "Ingresa la velocidad a la que corre el pollo (en metros por segundo):  5\n"
     ]
    },
    {
     "name": "stdout",
     "output_type": "stream",
     "text": [
      "🐔\n",
      "     🐔\n",
      "          🐔\n",
      "               🐔\n",
      "                    🐔\n",
      "                         🐔\n",
      "                              🐔\n",
      "                                   🐔\n",
      "                                        🐔\n",
      "                                             🐔\n",
      "                                                  🐔\n",
      "                                                       🐔\n",
      "                                                            🐔\n",
      "                                                                 🐔\n",
      "                                                                      🐔\n",
      "                                                                           🐔\n",
      "                                                                                🐔\n",
      "                                                                                     🐔\n",
      "                                                                                          🐔\n",
      "                                                                                               🐔\n",
      "¡El pollo ha llegado a los 100 metros!\n"
     ]
    }
   ],
   "source": [
    "import time  # Importar time \n",
    "\n",
    "\n",
    "velocidad = int(input(\"Ingresa la velocidad a la que corre el pollo (en metros por segundo): \"))  #inresar vellocidad del pollo en m/s\n",
    "\n",
    "\n",
    "posicion = 0  #  posición del pollo \n",
    "\n",
    "\n",
    "distancia_total = 100  # La distancia total de 100 metros\n",
    "\n",
    "\n",
    "while posicion < distancia_total:  # Usamos ciclo while para simular el recorrido \n",
    "    \n",
    "    print(\" \" * posicion + \"🐔\")  #  la posición del pollo\n",
    "    \n",
    "   \n",
    "    posicion += velocidad   # Aumento de la distancia del pollo\n",
    "    \n",
    "   \n",
    "    time.sleep(1)  # Pausa de 1 segundo para mostrar el recorrido\n",
    "\n",
    "# Cuando el pollo alcanza la distancia total\n",
    "print(\"¡El pollo ha llegado a los 100 metros!\")\n"
   ]
  },
  {
   "cell_type": "code",
   "execution_count": null,
   "id": "d1da8d0e-110e-4898-ab04-bb595837040f",
   "metadata": {},
   "outputs": [],
   "source": []
  }
 ],
 "metadata": {
  "kernelspec": {
   "display_name": "Python 3 (ipykernel)",
   "language": "python",
   "name": "python3"
  },
  "language_info": {
   "codemirror_mode": {
    "name": "ipython",
    "version": 3
   },
   "file_extension": ".py",
   "mimetype": "text/x-python",
   "name": "python",
   "nbconvert_exporter": "python",
   "pygments_lexer": "ipython3",
   "version": "3.12.7"
  }
 },
 "nbformat": 4,
 "nbformat_minor": 5
}
